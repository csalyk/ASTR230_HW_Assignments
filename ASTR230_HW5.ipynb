{
 "cells": [
  {
   "cell_type": "markdown",
   "metadata": {},
   "source": [
    "## <font color=\"red\">Student name:</font>"
   ]
  },
  {
   "cell_type": "code",
   "execution_count": 4,
   "metadata": {},
   "outputs": [
    {
     "name": "stdout",
     "output_type": "stream",
     "text": [
      "Populating the interactive namespace from numpy and matplotlib\n"
     ]
    }
   ],
   "source": [
    "#Start all notebooks with these lines.  They set a lot of variables to values we want to use,\n",
    "#and read in some important packages of routines, too.\n",
    "%matplotlib inline\n",
    "import numpy as np\n",
    "import matplotlib.pyplot as plt"
   ]
  },
  {
   "cell_type": "markdown",
   "metadata": {},
   "source": [
    "## Question 1: Bulk densities"
   ]
  },
  {
   "cell_type": "markdown",
   "metadata": {},
   "source": [
    "### (a): Let's assume all planets are made of two components, of density $\\rho_1$ and $\\rho_2$, and masses $M_1$ and $M_2$, respectively.  (For example, a planet may be made of a high density metal plus a lower density rock). If the planet has a mass $M$, and an average density of $\\rho_\\mathrm{avg}$, derive an expression for the mass of component 1 ($M_1$) as a function of $M$, $\\rho_\\mathrm{avg}$, $\\rho_1$ and $\\rho_2$.  Hint: Begin with the definition of density, and replace variables until everything is in terms of $M$, $\\rho_\\mathrm{avg}$, $\\rho_1$ and $\\rho_2$.  Warning: The expression may not be beautiful, so just stick to the algebra even if it gets complicated!  Given the complication of this, you are welcome to hand in your written work, rather than converting it to Markdown.\n"
   ]
  },
  {
   "cell_type": "code",
   "execution_count": null,
   "metadata": {},
   "outputs": [],
   "source": []
  },
  {
   "cell_type": "markdown",
   "metadata": {},
   "source": [
    "<font color=\"red\">*Comments from instructor:*</font>"
   ]
  },
  {
   "cell_type": "markdown",
   "metadata": {},
   "source": [
    "### (b): Run the following tests of your expression to make sure it's correct.  (If it's not, go back and find your error!)  To run these tests, you will want to \"plug\" some hypothetical numbers into your expression:\n",
    "\n",
    "-Let $\\rho_2 = \\rho_\\mathrm{avg}$.  What do you expect $M_1$ to be in this case?  Check that your expression gives this result.\n",
    "\n",
    "-Let $\\rho_1 = \\rho_\\mathrm{avg}$.  What do you expect $M_1$ to be in this case? Check that your expression gives this result.\n",
    "\n",
    "-Let $\\rho_\\mathrm{avg}$ be something in-between $\\rho_1$ and $\\rho_2$.  What do you expect $M_1$ to be in this case (roughly speaking)?  If you test two different values of $\\rho_\\mathrm{avg}$ (but keep $\\rho_1$ and $\\rho_2$ fixed) how do you expect $M_1$ to change?  Check that your expression gives the expected results."
   ]
  },
  {
   "cell_type": "code",
   "execution_count": null,
   "metadata": {},
   "outputs": [],
   "source": []
  },
  {
   "cell_type": "markdown",
   "metadata": {},
   "source": [
    "<font color=\"red\">*Comments from instructor:*</font>"
   ]
  },
  {
   "cell_type": "markdown",
   "metadata": {},
   "source": [
    "### (c): Assuming component 1 represents the core of the planet, find an expression for the radius of the core, if it has mass $M_1$ and density $\\rho_1$. (Note: You do not need the answers to parts (a) or (b) to answer this question)."
   ]
  },
  {
   "cell_type": "code",
   "execution_count": null,
   "metadata": {},
   "outputs": [],
   "source": []
  },
  {
   "cell_type": "markdown",
   "metadata": {},
   "source": [
    "<font color=\"red\">*Comments from instructor:*</font>"
   ]
  },
  {
   "cell_type": "markdown",
   "metadata": {},
   "source": [
    "### (d): Assume that all planets are composed of an iron core, with a density of $\\rho_1=8000$ kg/m$^3$ and a rocky mantle, with $\\rho_2=3000$ kg/m$^3$.   Using the expressions you derived, the masses of the planets, the radii of the planets, and the average density of the planets, fill in the attached chart."
   ]
  },
  {
   "cell_type": "code",
   "execution_count": null,
   "metadata": {},
   "outputs": [],
   "source": []
  },
  {
   "cell_type": "markdown",
   "metadata": {},
   "source": [
    "| Planet Name | Average dens [kg/m$^3$] | Core mass frac | core mass [kg] |$R_\\mathrm{core}$ [km] | $\\frac{R_\\mathrm{core}}{R_\\mathrm{pl}}$| Actual $R_\\mathrm{core}$ [km]|\n",
    "| --- | --- | --- | --- | --- | --- | --- |\n",
    "Mercury | 5427 | . | . | . | . |$\\sim$1600|\n",
    "Venus | 5243 | . | . | . | . |$\\sim$3200|\n",
    "Earth | 5514 | . | . | . | . |3485|\n",
    "Mars | 3933 | . | . | . | . |$\\sim$1700|\n",
    "Moon | 3340 | . | . | . | . |300--400|"
   ]
  },
  {
   "cell_type": "markdown",
   "metadata": {},
   "source": [
    "<font color=\"red\">*Comments from instructor:*</font>"
   ]
  },
  {
   "cell_type": "markdown",
   "metadata": {},
   "source": [
    "### (e):  Discuss your findings.  Which planets have the largest $\\frac{R_\\mathrm{core}}{R_\\mathrm{pl}}$?  Which have the smallest?  Are there any trends to the data?  What could cause the differences you see?"
   ]
  },
  {
   "cell_type": "code",
   "execution_count": null,
   "metadata": {},
   "outputs": [],
   "source": []
  },
  {
   "cell_type": "markdown",
   "metadata": {},
   "source": [
    "<font color=\"red\">*Comments from instructor: (please do not remove this cell)*</font>"
   ]
  },
  {
   "cell_type": "markdown",
   "metadata": {},
   "source": [
    "### (f): The measured radii of the cores of each body are shown in the final column.  How do these radii compare to the radii you derived?  Explain how you would change your model to make it more physically realistic.  What property of iron and rock might you want to know in addition to what is provided here (their uncompressed densities) to make this a more realistic model?"
   ]
  },
  {
   "cell_type": "code",
   "execution_count": null,
   "metadata": {},
   "outputs": [],
   "source": []
  },
  {
   "cell_type": "markdown",
   "metadata": {},
   "source": [
    "<font color=\"red\">*Comments from instructor:*</font>"
   ]
  },
  {
   "cell_type": "markdown",
   "metadata": {},
   "source": [
    "### (g): Suppose you detect a super-Earth planet and want to estimate the mass of its *atmosphere* using only the planet's bulk density and mass.  Is this possible?  Why or why not?"
   ]
  },
  {
   "cell_type": "code",
   "execution_count": null,
   "metadata": {},
   "outputs": [],
   "source": []
  },
  {
   "cell_type": "markdown",
   "metadata": {},
   "source": [
    "<font color=\"red\">*Comments from instructor:*</font>"
   ]
  },
  {
   "cell_type": "markdown",
   "metadata": {},
   "source": [
    "## Question 2: Moment of Inertia and differentiation"
   ]
  },
  {
   "cell_type": "markdown",
   "metadata": {},
   "source": [
    "### (a): Rearrange the Darwin-Radau relation (Eq 6.19) to find an expression for $\\alpha$  as a function of $f$, $a$, and other relevant parameters."
   ]
  },
  {
   "cell_type": "code",
   "execution_count": null,
   "metadata": {},
   "outputs": [],
   "source": []
  },
  {
   "cell_type": "markdown",
   "metadata": {},
   "source": [
    "<font color=\"red\">*Comments from instructor:*</font>"
   ]
  },
  {
   "cell_type": "markdown",
   "metadata": {},
   "source": [
    "### (b): Calculate $\\alpha$ for Ceres --- a large asteroid --- using the expression you just derived and the measured values of its equatorial and polar radii: 487.3 and 454.7 km, respectively (Thomas et al. 2005).  In addition, you should assume that the period of rotation is 9.075 hours and the mass of the asteroid is 9.395$\\times10^{20}$ kg.  "
   ]
  },
  {
   "cell_type": "code",
   "execution_count": null,
   "metadata": {},
   "outputs": [],
   "source": []
  },
  {
   "cell_type": "markdown",
   "metadata": {},
   "source": [
    "<font color=\"red\">*Comments from instructor:*</font>"
   ]
  },
  {
   "cell_type": "markdown",
   "metadata": {},
   "source": [
    "### (c):Compare your value of $\\alpha$ to the moment of inertia factors of an undifferentiated body (0.4) and that of the Earth (0.3307).  What does your value of $\\alpha$ suggest about the interior of the asteroid Ceres?"
   ]
  },
  {
   "cell_type": "code",
   "execution_count": null,
   "metadata": {},
   "outputs": [],
   "source": []
  },
  {
   "cell_type": "markdown",
   "metadata": {},
   "source": [
    "<font color=\"red\">*Comments from instructor:*</font>"
   ]
  },
  {
   "cell_type": "markdown",
   "metadata": {},
   "source": [
    "### (d):How do you think the other parameters of Ceres are determined?  Describe how you might measure $a$ and $c$, the asteroid's total mass, and its rotation period."
   ]
  },
  {
   "cell_type": "code",
   "execution_count": null,
   "metadata": {},
   "outputs": [],
   "source": []
  },
  {
   "cell_type": "markdown",
   "metadata": {},
   "source": [
    "<font color=\"red\">*Comments from instructor:*</font>"
   ]
  },
  {
   "cell_type": "markdown",
   "metadata": {},
   "source": [
    "### (e):  Suppose Ceres had a rotation rate that was 10 times lower, but the same value of $\\alpha$.  Compute the flattening parameter, $f$, and $a-c$, for this hypothetical body.  Suppose the error bars on the measurement of the equatorial and polar radii are about 2 km in size.  Would it have been possible to detect the flattening in the case that Ceres' rotation rate were 10 times lower?  Explain your answer."
   ]
  },
  {
   "cell_type": "code",
   "execution_count": null,
   "metadata": {},
   "outputs": [],
   "source": []
  },
  {
   "cell_type": "markdown",
   "metadata": {},
   "source": [
    "<font color=\"red\">*Comments from instructor:*</font>"
   ]
  },
  {
   "cell_type": "markdown",
   "metadata": {},
   "source": [
    "### (f): Compute the rotation rate, $\\omega$, for Venus, using Table 1.1, and compare to the rotation rate of Ceres.  How many times slower does Venus rotate compare to Ceres?  Based on this rotation rate and your answer to part (e), comment on the ease of measuring the moment of inertia factor for Venus."
   ]
  },
  {
   "cell_type": "code",
   "execution_count": null,
   "metadata": {},
   "outputs": [],
   "source": []
  },
  {
   "cell_type": "markdown",
   "metadata": {},
   "source": [
    "<font color=\"red\">*Comments from instructor:*</font>"
   ]
  },
  {
   "cell_type": "markdown",
   "metadata": {},
   "source": [
    "### (g): We found that if average density is constant, $\\Delta T$ due to the formation of a planet scales as $M^{2/3}$.   Use this expression, and the masses of Earth and Venus, to estimate the *ratio* of the temperature change for Earth and Venus."
   ]
  },
  {
   "cell_type": "code",
   "execution_count": null,
   "metadata": {},
   "outputs": [],
   "source": []
  },
  {
   "cell_type": "markdown",
   "metadata": {},
   "source": [
    "<font color=\"red\">*Comments from instructor:*</font>"
   ]
  },
  {
   "cell_type": "markdown",
   "metadata": {},
   "source": [
    "### (h): Given your calculation in part (g), and what you know about Earth's interior, would you infer that Venus is likely to be a differentiated body?  Explain your answer."
   ]
  },
  {
   "cell_type": "code",
   "execution_count": null,
   "metadata": {},
   "outputs": [],
   "source": []
  },
  {
   "cell_type": "markdown",
   "metadata": {},
   "source": [
    "<font color=\"red\">*Comments from instructor:*</font>"
   ]
  },
  {
   "cell_type": "markdown",
   "metadata": {},
   "source": [
    "## <font color=\"red\"> Grade </font>"
   ]
  },
  {
   "cell_type": "markdown",
   "metadata": {},
   "source": [
    "<font color=\"red\"> Calculations: </font>"
   ]
  },
  {
   "cell_type": "code",
   "execution_count": 1,
   "metadata": {},
   "outputs": [],
   "source": [
    "calculations_grade=0"
   ]
  },
  {
   "cell_type": "markdown",
   "metadata": {},
   "source": [
    "<font color=\"red\"> Concepts: </font>"
   ]
  },
  {
   "cell_type": "code",
   "execution_count": 2,
   "metadata": {},
   "outputs": [],
   "source": [
    "concepts_grade=0"
   ]
  },
  {
   "cell_type": "markdown",
   "metadata": {},
   "source": [
    "<font color=\"red\"> Communication: </font>"
   ]
  },
  {
   "cell_type": "code",
   "execution_count": 3,
   "metadata": {},
   "outputs": [],
   "source": [
    "communication_grade=0"
   ]
  },
  {
   "cell_type": "markdown",
   "metadata": {},
   "source": [
    "<font color=\"red\"> Total grade: </font>"
   ]
  },
  {
   "cell_type": "code",
   "execution_count": 4,
   "metadata": {},
   "outputs": [
    {
     "name": "stdout",
     "output_type": "stream",
     "text": [
      "0\n"
     ]
    }
   ],
   "source": [
    "print(calculations_grade+concepts_grade+communication_grade)"
   ]
  }
 ],
 "metadata": {
  "kernelspec": {
   "display_name": "Python 3 (ipykernel)",
   "language": "python",
   "name": "python3"
  },
  "language_info": {
   "codemirror_mode": {
    "name": "ipython",
    "version": 3
   },
   "file_extension": ".py",
   "mimetype": "text/x-python",
   "name": "python",
   "nbconvert_exporter": "python",
   "pygments_lexer": "ipython3",
   "version": "3.9.12"
  }
 },
 "nbformat": 4,
 "nbformat_minor": 1
}
