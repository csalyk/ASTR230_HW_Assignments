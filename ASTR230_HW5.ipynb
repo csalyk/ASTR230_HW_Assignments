{
 "cells": [
  {
   "cell_type": "markdown",
   "metadata": {},
   "source": [
    "## <font color=\"red\">Student name:</font>"
   ]
  },
  {
   "cell_type": "code",
   "execution_count": 12,
   "metadata": {},
   "outputs": [
    {
     "name": "stdout",
     "output_type": "stream",
     "text": [
      "Populating the interactive namespace from numpy and matplotlib\n"
     ]
    }
   ],
   "source": [
    "#Start all notebooks with this line.  It sets a lot of variables to values we want to use,\n",
    "#and reads in some important packages of routines, too.\n",
    "%pylab inline"
   ]
  },
  {
   "cell_type": "markdown",
   "metadata": {},
   "source": [
    "## Pre-question help: Intro to loops\n",
    "\n",
    "In this section, I'll provide some example code showing how to use \"loops\" in python.\n",
    "\n",
    "First, let me define a list of planet names."
   ]
  },
  {
   "cell_type": "code",
   "execution_count": 8,
   "metadata": {},
   "outputs": [
    {
     "name": "stdout",
     "output_type": "stream",
     "text": [
      "['Mercury', 'Venus', 'Earth', 'Mars', 'Jupiter', 'Saturn', 'Uranus', 'Neptune']\n"
     ]
    }
   ],
   "source": [
    "names=['Mercury','Venus','Earth','Mars','Jupiter','Saturn','Uranus','Neptune']\n",
    "print(names)"
   ]
  },
  {
   "cell_type": "markdown",
   "metadata": {},
   "source": [
    "Here is the syntax for a basic loop.  In this case, it loops through the list of names and prints out each name."
   ]
  },
  {
   "cell_type": "code",
   "execution_count": 9,
   "metadata": {},
   "outputs": [
    {
     "name": "stdout",
     "output_type": "stream",
     "text": [
      "Mercury\n",
      "Venus\n",
      "Earth\n",
      "Mars\n",
      "Jupiter\n",
      "Saturn\n",
      "Uranus\n",
      "Neptune\n"
     ]
    }
   ],
   "source": [
    "for myname in names:   #myname is the variable name given to the ith element of names\n",
    "    print(myname)"
   ]
  },
  {
   "cell_type": "markdown",
   "metadata": {},
   "source": [
    "We can use a neat routine called \"enumerate\" to also get an index (0,1,2 etc.) associated with each name."
   ]
  },
  {
   "cell_type": "code",
   "execution_count": 10,
   "metadata": {},
   "outputs": [
    {
     "name": "stdout",
     "output_type": "stream",
     "text": [
      "Mercury Mercury 0\n",
      "Venus Venus 1\n",
      "Earth Earth 2\n",
      "Mars Mars 3\n",
      "Jupiter Jupiter 4\n",
      "Saturn Saturn 5\n",
      "Uranus Uranus 6\n",
      "Neptune Neptune 7\n"
     ]
    }
   ],
   "source": [
    "for i,myname in enumerate(names):   #i is the name of the \"index\" variable\n",
    "    print(myname, names[i],i)  #Notice there are two ways to get the ith element of names"
   ]
  },
  {
   "cell_type": "markdown",
   "metadata": {},
   "source": [
    "To create a 2D array/matrix, we use what's called a \"nested loop\".  Here's an example."
   ]
  },
  {
   "cell_type": "code",
   "execution_count": 15,
   "metadata": {},
   "outputs": [
    {
     "name": "stdout",
     "output_type": "stream",
     "text": [
      "0 0 Mercury Mercury\n",
      "0 1 Mercury Venus\n",
      "0 2 Mercury Earth\n",
      "1 0 Venus Mercury\n",
      "1 1 Venus Venus\n",
      "1 2 Venus Earth\n",
      "2 0 Earth Mercury\n",
      "2 1 Earth Venus\n",
      "2 2 Earth Earth\n",
      "3 0 Mars Mercury\n",
      "3 1 Mars Venus\n",
      "3 2 Mars Earth\n",
      "4 0 Jupiter Mercury\n",
      "4 1 Jupiter Venus\n",
      "4 2 Jupiter Earth\n",
      "5 0 Saturn Mercury\n",
      "5 1 Saturn Venus\n",
      "5 2 Saturn Earth\n",
      "6 0 Uranus Mercury\n",
      "6 1 Uranus Venus\n",
      "6 2 Uranus Earth\n",
      "7 0 Neptune Mercury\n",
      "7 1 Neptune Venus\n",
      "7 2 Neptune Earth\n"
     ]
    }
   ],
   "source": [
    "for i,myname in enumerate(names):\n",
    "    for j in np.arange(3):   #j is a second index variable that here goes from 0->2\n",
    "        print(i,j,myname,names[j])"
   ]
  },
  {
   "cell_type": "markdown",
   "metadata": {},
   "source": [
    "## Question 1: Crater counting"
   ]
  },
  {
   "cell_type": "markdown",
   "metadata": {},
   "source": [
    "For this problem, you will create simulated maps of 48 craters on a planetary surface.  To make these maps, you will make extensive use of a python routine called np.random.uniform().  It will randomly pick numbers between some low and high values you provide.  For example, to randomly pick 10 numbers between 1 and 5, you would say x=np.random.uniform(low=1, high=5, size=10).  You will use this random number generator to place craters on an 8 element wide by 6 element high grid, and then plot those craters by plotting a circle at each (x,y) position you generated.  "
   ]
  },
  {
   "cell_type": "markdown",
   "metadata": {},
   "source": [
    "### 1(a): Produce the following 6 models in your ipython notebook, and display their plots:\n",
    "\n",
    "-Model 1: Evenly spaced: Put one crater at a random location in each cell (one crater per cell).  For example, the coordinates of the crater in cell (2, 4) will be x=2+np.random.uniform(low=0, high=1), y=4+np.random.uniform(low=0, high=1).\n",
    "\n",
    "-Model 2: Random: Place the 48 craters at random locations on the grid.  I will provide the code for this model as an ipython notebook on moodle. Modify/extend this example to make the other models. \n",
    "\n",
    "-Model 3: 40\\% enhanced: Place 28 craters at random on the right half of the grid and 20 craters at random on the left half of the grid.\n",
    "\n",
    "-Model 4: 100\\% enhanced: Place 32 craters at random on the right half of the grid and 16 craters at random on the left half of the grid.\n",
    "\n",
    "-Model 5: 200\\% enhanced: Place 36 craters at random on the right half of the grid and 12 craters at random on the left half of the grid.\n",
    "\n",
    "-Model 6: 400\\% Enhanced: Place 40 craters at random on the right half of the grid and 8 craters at random on the left half of the grid."
   ]
  },
  {
   "cell_type": "code",
   "execution_count": null,
   "metadata": {},
   "outputs": [],
   "source": []
  },
  {
   "cell_type": "markdown",
   "metadata": {},
   "source": [
    "<font color=\"red\">*Comments from instructor: (please do not remove this cell)*</font>"
   ]
  },
  {
   "cell_type": "markdown",
   "metadata": {},
   "source": [
    "### 1(b): How does the evenly spaced model compare to the random models?  Were you surprised by how a \"random\" surface looks?  If so, how?"
   ]
  },
  {
   "cell_type": "code",
   "execution_count": null,
   "metadata": {},
   "outputs": [],
   "source": []
  },
  {
   "cell_type": "markdown",
   "metadata": {},
   "source": [
    "<font color=\"red\">*Comments from instructor:*</font>"
   ]
  },
  {
   "cell_type": "markdown",
   "metadata": {},
   "source": [
    "### 1(c): Comment on the tendency to perceive structure in the random maps, and on the ease of recognizing terrains of different crater density \"by eye\".  How easy is it to identify the two cratering rates in these maps (especially if you don't know ahead of time that they are split into two halves)?  How might you caution an investigator using cratering maps?"
   ]
  },
  {
   "cell_type": "code",
   "execution_count": null,
   "metadata": {},
   "outputs": [],
   "source": []
  },
  {
   "cell_type": "markdown",
   "metadata": {},
   "source": [
    "<font color=\"red\">*Comments from instructor:*</font>"
   ]
  },
  {
   "cell_type": "markdown",
   "metadata": {},
   "source": [
    "### 1(d): If you wanted to get an accurate measurement of crater density, what strategies would you use to avoid getting \"fooled\"?"
   ]
  },
  {
   "cell_type": "code",
   "execution_count": null,
   "metadata": {},
   "outputs": [],
   "source": []
  },
  {
   "cell_type": "markdown",
   "metadata": {},
   "source": [
    "<font color=\"red\">*Comments from instructor:*</font>"
   ]
  },
  {
   "cell_type": "markdown",
   "metadata": {},
   "source": [
    "## Question 2: Bulk densities"
   ]
  },
  {
   "cell_type": "markdown",
   "metadata": {},
   "source": [
    "### 2(a): Let's assume all planets are made of two components, of density $\\rho_1$ and $\\rho_2$, and masses $M_1$ and $M_2$, respectively.  (For example, a planet may be made of a high density metal plus a lower density rock). If the planet has a mass $M$, and an average density of $\\rho_\\mathrm{avg}$, derive an expression for the mass of component 1 ($M_1$) as a function of $M$, $\\rho_\\mathrm{avg}$, $\\rho_1$ and $\\rho_2$.  Hint: Begin with the definition of density, and replace variables until everything is in terms of $M$, $\\rho_\\mathrm{avg}$, $\\rho_1$ and $\\rho_2$.  Warning: The expression may not be beautiful, so just stick to the algebra even if it gets complicated!\n"
   ]
  },
  {
   "cell_type": "code",
   "execution_count": null,
   "metadata": {},
   "outputs": [],
   "source": []
  },
  {
   "cell_type": "markdown",
   "metadata": {},
   "source": [
    "<font color=\"red\">*Comments from instructor:*</font> "
   ]
  },
  {
   "cell_type": "markdown",
   "metadata": {},
   "source": [
    "### 2(b): Run the following tests of your expression to make sure it's correct.  (If it's not, go back and find your error!)  To run these tests, you will want to \"plug\" some hypothetical numbers into your expression:\n",
    "\n",
    "-Let $\\rho_2 = \\rho_\\mathrm{avg}$.  What do you expect $M_1$ to be in this case?  Check that your expression gives this result.\n",
    "\n",
    "-Let $\\rho_1 = \\rho_\\mathrm{avg}$.  What do you expect $M_1$ to be in this case? Check that your expression gives this result.\n",
    "\n",
    "-Let $\\rho_\\mathrm{avg}$ be something in-between $\\rho_1$ and $\\rho_2$.  What do you expect $M_1$ to be in this case (roughly speaking)?  If you test two different values of $\\rho_\\mathrm{avg}$ (but keep $\\rho_1$ and $\\rho_2$ fixed) how do you expect $M_1$ to change?  Check that your expression gives the expected results."
   ]
  },
  {
   "cell_type": "code",
   "execution_count": null,
   "metadata": {},
   "outputs": [],
   "source": []
  },
  {
   "cell_type": "markdown",
   "metadata": {},
   "source": [
    "<font color=\"red\">*Comments from instructor:*</font>"
   ]
  },
  {
   "cell_type": "markdown",
   "metadata": {},
   "source": [
    "### 2(c): Assuming component 1 represents the core of the planet, find an expression for the radius of the core, if it has mass $M_1$ and density $\\rho_1$. (Note: You do not need the answers to parts (a) or (b) to answer this question)."
   ]
  },
  {
   "cell_type": "code",
   "execution_count": null,
   "metadata": {},
   "outputs": [],
   "source": []
  },
  {
   "cell_type": "markdown",
   "metadata": {},
   "source": [
    "<font color=\"red\">*Comments from instructor:*</font>"
   ]
  },
  {
   "cell_type": "markdown",
   "metadata": {},
   "source": [
    "### 2(d): Assume that all planets are composed of an iron core, with a density of $\\rho_1=8000$ kg/m$^3$ and a rocky mantle, with $\\rho_2=3000$ kg/m$^3$.   Using the expressions you derived, the masses of the planets, the radii of the planets, and the average density of the planets, fill in the attached chart, except for the last column.  Use your ipython notebook to do these calculations."
   ]
  },
  {
   "cell_type": "code",
   "execution_count": null,
   "metadata": {},
   "outputs": [],
   "source": []
  },
  {
   "cell_type": "markdown",
   "metadata": {},
   "source": [
    "<font color=\"red\">*Comments from instructor:*</font>"
   ]
  },
  {
   "cell_type": "markdown",
   "metadata": {},
   "source": [
    "### 2(e):  Discuss your findings.  Which planets have the largest $\\frac{R_\\mathrm{core}}{R_\\mathrm{pl}}$?  Which have the smallest?  Are there any trends to the data?  What could cause the differences you see?\n"
   ]
  },
  {
   "cell_type": "code",
   "execution_count": null,
   "metadata": {},
   "outputs": [],
   "source": []
  },
  {
   "cell_type": "markdown",
   "metadata": {},
   "source": [
    "<font color=\"red\">*Comments from instructor:*</font>"
   ]
  },
  {
   "cell_type": "markdown",
   "metadata": {},
   "source": [
    "### 2(f): The measured radii of the cores of each body are shown in the final column.  How do these radii compare to the radii you derived?  Explain how you would change your model to make it more physically realistic.  What property of iron and rock might you want to know in addition to what is provided here (their uncompressed densities) to make this a more realistic model?"
   ]
  },
  {
   "cell_type": "code",
   "execution_count": null,
   "metadata": {},
   "outputs": [],
   "source": []
  },
  {
   "cell_type": "markdown",
   "metadata": {},
   "source": [
    "<font color=\"red\">*Comments from instructor:*</font>"
   ]
  },
  {
   "cell_type": "markdown",
   "metadata": {},
   "source": [
    "### 2(g): Suppose you detect a super-Earth planet and want to estimate the mass of its {\\it atmosphere} using only the planet's bulk density and mass.  Is this possible?  Why or why not?"
   ]
  },
  {
   "cell_type": "code",
   "execution_count": null,
   "metadata": {},
   "outputs": [],
   "source": []
  },
  {
   "cell_type": "markdown",
   "metadata": {},
   "source": [
    "<font color=\"red\">*Comments from instructor:*</font>"
   ]
  },
  {
   "cell_type": "markdown",
   "metadata": {},
   "source": [
    "### Table to fill in:"
   ]
  },
  {
   "cell_type": "markdown",
   "metadata": {},
   "source": [
    "| Planet Name | Average dens [kg/m$^3$] | Core mass frac | core mass [kg] |$R_\\mathrm{core}$ [km] | $\\frac{R_\\mathrm{core}}{R_\\mathrm{pl}}$| Actual $R_\\mathrm{core}$ [km]|\n",
    "| --- | --- | --- | --- | --- | --- | --- |\n",
    "Mercury | 5427 | . | . | . | . |$\\sim$1600|\n",
    "Venus | 5243 | . | . | . | . |$\\sim$3200|\n",
    "Earth | 5514 | . | . | . | . |3485|\n",
    "Mars | 3933 | . | . | . | . |$\\sim$1700|\n",
    "Moon | 3340 | . | . | . | . |300--400|\n"
   ]
  },
  {
   "cell_type": "markdown",
   "metadata": {},
   "source": [
    "## <font color=\"red\"> Grade </font>"
   ]
  },
  {
   "cell_type": "markdown",
   "metadata": {},
   "source": [
    "<font color=\"red\"> Calculations: </font>"
   ]
  },
  {
   "cell_type": "code",
   "execution_count": 14,
   "metadata": {},
   "outputs": [],
   "source": [
    "calculations_grade=0"
   ]
  },
  {
   "cell_type": "markdown",
   "metadata": {},
   "source": [
    "<font color=\"red\"> Concepts: </font>"
   ]
  },
  {
   "cell_type": "code",
   "execution_count": 15,
   "metadata": {},
   "outputs": [],
   "source": [
    "concepts_grade=0"
   ]
  },
  {
   "cell_type": "markdown",
   "metadata": {},
   "source": [
    "<font color=\"red\"> Communication: </font>"
   ]
  },
  {
   "cell_type": "code",
   "execution_count": 16,
   "metadata": {},
   "outputs": [],
   "source": [
    "communication_grade=0"
   ]
  },
  {
   "cell_type": "markdown",
   "metadata": {},
   "source": [
    "<font color=\"red\"> Total grade: </font>"
   ]
  },
  {
   "cell_type": "code",
   "execution_count": 17,
   "metadata": {},
   "outputs": [
    {
     "name": "stdout",
     "output_type": "stream",
     "text": [
      "0\n"
     ]
    }
   ],
   "source": [
    "print(calculations_grade+concepts_grade+communication_grade)"
   ]
  },
  {
   "cell_type": "code",
   "execution_count": null,
   "metadata": {},
   "outputs": [],
   "source": []
  }
 ],
 "metadata": {
  "kernelspec": {
   "display_name": "Python 3",
   "language": "python",
   "name": "python3"
  },
  "language_info": {
   "codemirror_mode": {
    "name": "ipython",
    "version": 3
   },
   "file_extension": ".py",
   "mimetype": "text/x-python",
   "name": "python",
   "nbconvert_exporter": "python",
   "pygments_lexer": "ipython3",
   "version": "3.5.6"
  }
 },
 "nbformat": 4,
 "nbformat_minor": 1
}
