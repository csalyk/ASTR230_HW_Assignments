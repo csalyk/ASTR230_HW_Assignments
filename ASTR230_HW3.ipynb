{
 "cells": [
  {
   "cell_type": "markdown",
   "metadata": {},
   "source": [
    "## <font color=\"red\">Student name:</font>"
   ]
  },
  {
   "cell_type": "code",
   "execution_count": 1,
   "metadata": {},
   "outputs": [
    {
     "name": "stdout",
     "output_type": "stream",
     "text": [
      "Populating the interactive namespace from numpy and matplotlib\n"
     ]
    }
   ],
   "source": [
    "#Start all notebooks with this line.  It sets a lot of variables to values we want to use,\n",
    "#and reads in some important packages of routines, too.\n",
    "%pylab inline"
   ]
  },
  {
   "cell_type": "markdown",
   "metadata": {},
   "source": [
    "## Question 1: Center of mass"
   ]
  },
  {
   "cell_type": "markdown",
   "metadata": {},
   "source": [
    "### 1(a): Calculate the maximum distance of the center of mass of the solar system from the center of the sun.  Use a theoretical (but unlikely!) point in time when all planets are aligned in their orbits.  Place the center of the sun at the origin, and treat the sun and planets as point masses.  Let the distance to each planet equal its semi-major axis.  Compare your answer to some appropriate physical size scale (like the radius of the sun, or the radius of Jupiter, or the radius of the Earth...).  "
   ]
  },
  {
   "cell_type": "code",
   "execution_count": null,
   "metadata": {},
   "outputs": [],
   "source": []
  },
  {
   "cell_type": "markdown",
   "metadata": {},
   "source": [
    "<font color=\"red\">*Comments from instructor: (please do not remove this cell)*</font>"
   ]
  },
  {
   "cell_type": "markdown",
   "metadata": {},
   "source": [
    "### 1(b): Calculate the distance from the sun of the center of mass of a system consisting only of the sun and Jupiter.  Compare this answer to part (a) and compare the *difference* of your answers to parts (a) and (b) to some appropriate physical size scale.  Comment on the appropriateness of approximations of the sun's motion that only consider the gravitational effects of Jupiter."
   ]
  },
  {
   "cell_type": "code",
   "execution_count": null,
   "metadata": {},
   "outputs": [],
   "source": []
  },
  {
   "cell_type": "markdown",
   "metadata": {},
   "source": [
    "<font color=\"red\">*Comments from instructor: (please do not remove this cell)*</font>"
   ]
  },
  {
   "cell_type": "markdown",
   "metadata": {},
   "source": [
    "### 1(c): Assuming that Jupiter is the only planet, and that the sun is always the distance you derived in part (b) from the center of mass (i.e., assume it has a circular orbit around the center of mass of the sun-Jupiter system), estimate the orbital speed (in m/s) of the sun.  (Hint: You will need to remember and use an important fact about the sun's orbit that we discussed in class, in addition to other information)."
   ]
  },
  {
   "cell_type": "code",
   "execution_count": null,
   "metadata": {},
   "outputs": [],
   "source": []
  },
  {
   "cell_type": "markdown",
   "metadata": {},
   "source": [
    "<font color=\"red\">*Comments from instructor: (please do not remove this cell)*</font>"
   ]
  },
  {
   "cell_type": "markdown",
   "metadata": {},
   "source": [
    "## Question 2: Weirdness of orbital dynamics"
   ]
  },
  {
   "cell_type": "markdown",
   "metadata": {},
   "source": [
    "In this problem, you will investigate some weird consequences of orbital dynamics.  Later on in the semester, we will refer back to this result to discuss a process called \"shepherding\"."
   ]
  },
  {
   "cell_type": "markdown",
   "metadata": {},
   "source": [
    "### 2(a): Think back to your introductory physics class and remind yourself what the definition of Work is,and what it means to do positive or negative work. In your own words, describe Work, the sign conventions, and how work relates to energy."
   ]
  },
  {
   "cell_type": "code",
   "execution_count": null,
   "metadata": {},
   "outputs": [],
   "source": []
  },
  {
   "cell_type": "markdown",
   "metadata": {},
   "source": [
    "<font color=\"red\">*Comments from instructor:*</font>"
   ]
  },
  {
   "cell_type": "markdown",
   "metadata": {},
   "source": [
    "### 2(b): Remind yourself why the definition of work includes a dot product and describe this in your own words.  Is work done on an object if you give it a push in a direction perpendicular to its motion?  "
   ]
  },
  {
   "cell_type": "code",
   "execution_count": null,
   "metadata": {},
   "outputs": [],
   "source": []
  },
  {
   "cell_type": "markdown",
   "metadata": {},
   "source": [
    "<font color=\"red\">*Comments from instructor:*</font>"
   ]
  },
  {
   "cell_type": "markdown",
   "metadata": {},
   "source": [
    "Use your understanding of work and the equation for orbital energy, $E=-GM_\\star m_p/(2a)$ for the next two questions."
   ]
  },
  {
   "cell_type": "markdown",
   "metadata": {},
   "source": [
    "### 2(c): Suppose you strap a rocket to the Earth and apply a force of $10^{20}$ N over a distance of $10^{13}$ m in a direction that is always perpendicular to Earth's motion.  How much work is done on the Earth? After the rocket is done firing, what is the new semi-major axis of the Earth?"
   ]
  },
  {
   "cell_type": "code",
   "execution_count": null,
   "metadata": {},
   "outputs": [],
   "source": []
  },
  {
   "cell_type": "markdown",
   "metadata": {},
   "source": [
    "<font color=\"red\">*Comments from instructor:*</font>"
   ]
  },
  {
   "cell_type": "markdown",
   "metadata": {},
   "source": [
    "### 2(d): Suppose you strap a rocket to the Earth and apply a force of $10^{20}$ N over a distance of $10^{13}$ m in the same direction as Earth's motion.  How much work is done on the Earth?  After the rocket is done firing, what is the new semi-major axis of Earth's orbit in Astronomical Units (AU)?  Is the new semi-major axis larger or smaller than the old semi-major axis?"
   ]
  },
  {
   "cell_type": "code",
   "execution_count": null,
   "metadata": {},
   "outputs": [],
   "source": []
  },
  {
   "cell_type": "markdown",
   "metadata": {},
   "source": [
    "<font color=\"red\">*Comments from instructor:*</font>"
   ]
  },
  {
   "cell_type": "markdown",
   "metadata": {},
   "source": [
    "### 2(e): Using the principles of circular motion, derive a relationship between orbital velocity, $v$, and semi-major axis, $a$.  Do planets move faster when they are close to the sun, or far from the sun?"
   ]
  },
  {
   "cell_type": "code",
   "execution_count": null,
   "metadata": {},
   "outputs": [],
   "source": []
  },
  {
   "cell_type": "markdown",
   "metadata": {},
   "source": [
    "<font color=\"red\">*Comments from instructor:*</font>"
   ]
  },
  {
   "cell_type": "markdown",
   "metadata": {},
   "source": [
    "### 2(f): Given the new semi-major axis and your answer to the last question, is Earth now moving faster or slower than it was before it got a push? (No need to calculate the speed, just discuss whether it's faster or slower than before)  Discuss how this compares to your everyday experience with how giving something a push in the direction of its motion would affect its speed."
   ]
  },
  {
   "cell_type": "code",
   "execution_count": null,
   "metadata": {},
   "outputs": [],
   "source": []
  },
  {
   "cell_type": "markdown",
   "metadata": {},
   "source": [
    "<font color=\"red\">*Comments from instructor:*</font>"
   ]
  },
  {
   "cell_type": "markdown",
   "metadata": {},
   "source": [
    "## Question 3: The Roche limit"
   ]
  },
  {
   "cell_type": "markdown",
   "metadata": {},
   "source": [
    "The Roche limit is the distance from a body within which tidal forces would rip apart any orbiting body.  In this problem, you will do a rough derivation of the Roche limit for a planet.  To begin, make sure you recall that in class, we derived an expression for tidal force on the surface of a moon orbiting a planet.  For some particle of mass $m$ on the surface of a moon orbiting a planet of mass $m_p$, the magnitude of the tidal force is approximately: $F_T = \\frac{2R G m_p m}{r^3}$ where $R$ is the radius of the moon and $r$ is the distance between the moon and the planet."
   ]
  },
  {
   "cell_type": "markdown",
   "metadata": {},
   "source": [
    "### 3(a): The tidal force tries to rip the moon apart, but the moon's own gravity will try to hold it together.  Write down an expression for the magnitude of the gravitational force felt by a particle of mass $m$ on the surface of the moon (i.e., at a distance of $R$ from the center of the moon) due to the moon's own gravity.  Use the symbol $m_m$ to represent the mass of the moon.  Make sure you keep all of your symbols straight! (Note: You are completely ignoring the tidal force for this part)."
   ]
  },
  {
   "cell_type": "code",
   "execution_count": null,
   "metadata": {},
   "outputs": [],
   "source": []
  },
  {
   "cell_type": "markdown",
   "metadata": {},
   "source": [
    "<font color=\"red\">*Comments from instructor:*</font> "
   ]
  },
  {
   "cell_type": "markdown",
   "metadata": {},
   "source": [
    "### 3(b): By setting the tidal force exerted by the planet equal to the gravitational force exerted by the moon itself, find an expression for the distance, $r$, from the planet, at which these two forces are equal.  Beyond this distance, the gravitational forces \"win\"; inside this radius, the tidal forces \"win\".  Make sure your answer makes sense by checking the units and checking that it does what you expect.  (What happens to $r$ if you increase the mass of the planet? What happens to $r$ if you increase the mass of the moon?  What happens to $r$ if you increase $R$?   Are these what you expect?)"
   ]
  },
  {
   "cell_type": "code",
   "execution_count": null,
   "metadata": {},
   "outputs": [],
   "source": []
  },
  {
   "cell_type": "markdown",
   "metadata": {},
   "source": [
    "<font color=\"red\">*Comments from instructor:*</font>"
   ]
  },
  {
   "cell_type": "markdown",
   "metadata": {},
   "source": [
    "### 3(c): The equation you derived is not in a very useful form, since it depends on the size of the moon.  Instead, we want a general expression for how far *any* moon would have to be from a planet to survive tidal forces.  Take your expression for $r$ and replace each mass with the equation for mass $M = 4/3 \\pi R^3 \\rho$  where $\\rho$ is density.  To keep your variables straight, make sure you use subscripts to differentiate the moon and planet.  Simplify to find an expression for $r$ that depends only on the relative densities of the moon and planet and the radius of the *planet*."
   ]
  },
  {
   "cell_type": "code",
   "execution_count": null,
   "metadata": {},
   "outputs": [],
   "source": []
  },
  {
   "cell_type": "markdown",
   "metadata": {},
   "source": [
    "<font color=\"red\">*Comments from instructor:*</font>"
   ]
  },
  {
   "cell_type": "markdown",
   "metadata": {},
   "source": [
    "### 3(d): Our simplified derivation gets the variables right, but is off by a small constant (primarily due to the fact that the moons get tidally stretched to sizes larger than $R$).  The correct expression for the Roche limit is $r \\approx 2.5 \\times R_p \\Big( \\frac{\\rho_p}{\\rho_m}   \\Big)^{1/3}$.  Using this expression, estimate the Roche limit for Saturn.  You will need to look up the radius and density of Saturn.  For the moon, let's assume it's a mostly icy mixture with a density of 1000 kg/m$^3$.  "
   ]
  },
  {
   "cell_type": "code",
   "execution_count": null,
   "metadata": {},
   "outputs": [],
   "source": []
  },
  {
   "cell_type": "markdown",
   "metadata": {},
   "source": [
    "<font color=\"red\">*Comments from instructor:*</font>"
   ]
  },
  {
   "cell_type": "markdown",
   "metadata": {},
   "source": [
    "### 3(e): Compare your answer to the radius of Saturn, the orbital radius of Saturn's A-ring --- the most prominent outer ring, as well as to the orbital radius of Janus and Epimetheus --- moons that may be currently falling apart to create a new ring.  Discuss your answer."
   ]
  },
  {
   "cell_type": "code",
   "execution_count": null,
   "metadata": {},
   "outputs": [],
   "source": []
  },
  {
   "cell_type": "markdown",
   "metadata": {},
   "source": [
    "<font color=\"red\">*Comments from instructor:*</font>"
   ]
  },
  {
   "cell_type": "markdown",
   "metadata": {},
   "source": [
    "## <font color=\"red\"> Grade </font>"
   ]
  },
  {
   "cell_type": "markdown",
   "metadata": {},
   "source": [
    "<font color=\"red\"> Calculations: </font>"
   ]
  },
  {
   "cell_type": "code",
   "execution_count": 14,
   "metadata": {},
   "outputs": [],
   "source": [
    "calculations_grade=0"
   ]
  },
  {
   "cell_type": "markdown",
   "metadata": {},
   "source": [
    "<font color=\"red\"> Concepts: </font>"
   ]
  },
  {
   "cell_type": "code",
   "execution_count": 15,
   "metadata": {},
   "outputs": [],
   "source": [
    "concepts_grade=0"
   ]
  },
  {
   "cell_type": "markdown",
   "metadata": {},
   "source": [
    "<font color=\"red\"> Communication: </font>"
   ]
  },
  {
   "cell_type": "code",
   "execution_count": 16,
   "metadata": {},
   "outputs": [],
   "source": [
    "communication_grade=0"
   ]
  },
  {
   "cell_type": "markdown",
   "metadata": {},
   "source": [
    "<font color=\"red\"> Total grade: </font>"
   ]
  },
  {
   "cell_type": "code",
   "execution_count": 17,
   "metadata": {},
   "outputs": [
    {
     "name": "stdout",
     "output_type": "stream",
     "text": [
      "0\n"
     ]
    }
   ],
   "source": [
    "print(calculations_grade+concepts_grade+communication_grade)"
   ]
  },
  {
   "cell_type": "code",
   "execution_count": null,
   "metadata": {},
   "outputs": [],
   "source": []
  }
 ],
 "metadata": {
  "kernelspec": {
   "display_name": "Python 3",
   "language": "python",
   "name": "python3"
  },
  "language_info": {
   "codemirror_mode": {
    "name": "ipython",
    "version": 3
   },
   "file_extension": ".py",
   "mimetype": "text/x-python",
   "name": "python",
   "nbconvert_exporter": "python",
   "pygments_lexer": "ipython3",
   "version": "3.5.6"
  }
 },
 "nbformat": 4,
 "nbformat_minor": 1
}
