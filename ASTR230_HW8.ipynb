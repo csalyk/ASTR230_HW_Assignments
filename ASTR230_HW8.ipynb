{
 "cells": [
  {
   "cell_type": "markdown",
   "metadata": {},
   "source": [
    "## <font color=\"red\">Student name:</font>"
   ]
  },
  {
   "cell_type": "code",
   "execution_count": 1,
   "metadata": {},
   "outputs": [
    {
     "name": "stdout",
     "output_type": "stream",
     "text": [
      "Populating the interactive namespace from numpy and matplotlib\n"
     ]
    }
   ],
   "source": [
    "#Start all notebooks with this line.  It sets a lot of variables to values we want to use,\n",
    "#and reads in some important packages of routines, too.\n",
    "%pylab inline"
   ]
  },
  {
   "cell_type": "markdown",
   "metadata": {},
   "source": [
    "## Question 1: Angular momentum"
   ]
  },
  {
   "cell_type": "markdown",
   "metadata": {},
   "source": [
    "### 1(a): Calculate the sum of the angular momentum of the solar system planets (assuming they are point masses in circular orbits, and ignoring their spins).  "
   ]
  },
  {
   "cell_type": "code",
   "execution_count": null,
   "metadata": {},
   "outputs": [],
   "source": []
  },
  {
   "cell_type": "markdown",
   "metadata": {},
   "source": [
    "<font color=\"red\">*Comments from instructor: (please do not remove this cell)*</font>"
   ]
  },
  {
   "cell_type": "markdown",
   "metadata": {},
   "source": [
    "### 1(b): Calculate the angular momentum of the sun's spin.  You can assume it rotates as a solid body (although in reality, it does not) and has a moment of inertia factor of 2/5 (a uniform sphere)."
   ]
  },
  {
   "cell_type": "code",
   "execution_count": null,
   "metadata": {},
   "outputs": [],
   "source": []
  },
  {
   "cell_type": "markdown",
   "metadata": {},
   "source": [
    "<font color=\"red\">*Comments from instructor:*</font>"
   ]
  },
  {
   "cell_type": "markdown",
   "metadata": {},
   "source": [
    "### 1(c):Discuss what you found.  "
   ]
  },
  {
   "cell_type": "code",
   "execution_count": null,
   "metadata": {},
   "outputs": [],
   "source": []
  },
  {
   "cell_type": "markdown",
   "metadata": {},
   "source": [
    "<font color=\"red\">*Comments from instructor:*</font>"
   ]
  },
  {
   "cell_type": "markdown",
   "metadata": {},
   "source": [
    "### 1(d): Calculate the angular momentum of a spinning molecular cloud with the properties described in the Jeans mass calculation.  Molecular clouds have typical radii of 1.5 parsec and velocities at the edge of the cloud are 10 m s$^{-1}$.  Assume again that the cloud is a solid sphere."
   ]
  },
  {
   "cell_type": "code",
   "execution_count": null,
   "metadata": {},
   "outputs": [],
   "source": []
  },
  {
   "cell_type": "markdown",
   "metadata": {},
   "source": [
    "<font color=\"red\">*Comments from instructor:*</font>"
   ]
  },
  {
   "cell_type": "markdown",
   "metadata": {},
   "source": [
    "### 1(e): How do your answers to (a), (b) and (d) compare?  What might this tell you about the formation of planets?  Make sure to consider the concept of conservation of angular momentum."
   ]
  },
  {
   "cell_type": "code",
   "execution_count": null,
   "metadata": {},
   "outputs": [],
   "source": []
  },
  {
   "cell_type": "markdown",
   "metadata": {},
   "source": [
    "<font color=\"red\">*Comments from instructor:*</font>"
   ]
  },
  {
   "cell_type": "markdown",
   "metadata": {},
   "source": [
    "## Question 2: Minimum mass solar nebula"
   ]
  },
  {
   "cell_type": "markdown",
   "metadata": {},
   "source": [
    "### 2(a): Using the following chart of solar abundances *by number*, determine the approximate (H+He)/rock *mass* ratio, ice/rock mass ratio and (H+He+ice)/rock ratio in the solar system.  Assume that all of the heavier elements (Mg, Fe, Si) are locked up into simple solid minerals like olivine (Mg$_2$SiO$_4$, Fe$_2$SiO$_4$) and quartz (SiO$_2$), and that the $N$ and $C$ and remaining $O$ are primarily locked up in ice molecules like H$_2$O, CH$_4$ (methane) and NH$_3$ (ammonia).  (Hint: You may find it helpful to consider a fixed number of hydrogen atoms, say $10^{6}$, and then ask how many molecules of olivine you'd expect to have for every $10^6$ Hydrogen atoms...)  "
   ]
  },
  {
   "cell_type": "markdown",
   "metadata": {},
   "source": [
    "|Atom | Solar Abundance by number, relative to H|\n",
    "| --- | --- |\n",
    "|H | 1|\n",
    "|He | $8\\times10^{-2}$|\n",
    "|O | $7\\times10^{-4}$|\n",
    "|C | $4\\times10^{-4}$|\n",
    "|N | $1\\times10^{-4}$|\n",
    "|Mg | $4\\times10^{-5}$|\n",
    "|Si | $4\\times10^{-5}$|\n",
    "|Fe | $3\\times10^{-5}$|"
   ]
  },
  {
   "cell_type": "code",
   "execution_count": null,
   "metadata": {},
   "outputs": [],
   "source": []
  },
  {
   "cell_type": "markdown",
   "metadata": {},
   "source": [
    "<font color=\"red\">*Comments from instructor:*</font> "
   ]
  },
  {
   "cell_type": "markdown",
   "metadata": {},
   "source": [
    "### 2(b):  It's believed that the planets today no longer represent the cloud out of which they formed.  Instead, they have lost most of the gas, and much of the ice, that was originally present.  Using the table below, which shows the solid masses of the planets, use your (H+He+ice)/rock ratio to estimate the original masses of the planets."
   ]
  },
  {
   "cell_type": "code",
   "execution_count": null,
   "metadata": {},
   "outputs": [],
   "source": []
  },
  {
   "cell_type": "markdown",
   "metadata": {},
   "source": [
    "<font color=\"red\">*Comments from instructor:*</font>"
   ]
  },
  {
   "cell_type": "markdown",
   "metadata": {},
   "source": [
    "| Planet | Rock  mass| Original mass | Annulus (rin, rcenter, rout) | Surface density [kg/m$^2$]|\n",
    "| --- | --- | --- | --- | --- |\n",
    "Mercury|$3\\times10^{23}$ kg|.|( , 0.4 AU,)|\n",
    "Venus|$5\\times10^{24}$ kg|.|( , 0.7 AU, )|\n",
    "Earth|$6\\times10^{24}$ kg|.|( , 1 AU, )| \n",
    "Mars|$6\\times10^{23}$ kg|.|( , 1.5 AU, )|\n",
    "asteroid belt|$3\\times10^{21}$ kg|.|( , 3 AU, )|\n",
    "Jupiter|$1\\times10^{26}$ kg|.|( , 5 AU, )|\n",
    "Saturn|$1\\times10^{26}$ kg|.|( , 10 AU, )|\n",
    "Uranus|$6\\times10^{24}$ kg|.|( , 20 AU, )|\n",
    "Neptune|$6\\times10^{24}$ kg|.|( , 30 AU, )|"
   ]
  },
  {
   "cell_type": "markdown",
   "metadata": {},
   "source": [
    "### 2(c): Compute the total mass of all of the \"original\" planets combined.   How does this compare to the mass of the sun?   (i.e, express the \"original\" mass in units of $M_\\odot$)."
   ]
  },
  {
   "cell_type": "code",
   "execution_count": null,
   "metadata": {},
   "outputs": [],
   "source": []
  },
  {
   "cell_type": "markdown",
   "metadata": {},
   "source": [
    "<font color=\"red\">*Comments from instructor:*</font>"
   ]
  },
  {
   "cell_type": "markdown",
   "metadata": {},
   "source": [
    "### 2(d): How does this original mass compare to their total mass today?  Comment on what this says about the efficiency of planet formation."
   ]
  },
  {
   "cell_type": "code",
   "execution_count": null,
   "metadata": {},
   "outputs": [],
   "source": []
  },
  {
   "cell_type": "markdown",
   "metadata": {},
   "source": [
    "<font color=\"red\">*Comments from instructor:*</font>"
   ]
  },
  {
   "cell_type": "markdown",
   "metadata": {},
   "source": [
    "### 2(e): Consider a hypothetical protoplanetary disk (called the \"minimum mass solar nebula\") out of which the planets might have formed by computing the following.  Imagine each \"original\" mass planet spread out into an annulus (i.e., a thick ring) with an inner edge halfway between its current position and the planet inside its orbit, and an outer edge halfway between its current position and the planet outside its orbit.  (For example, Earth's annulus would spread from halfway between Earth and Venus to halfway between Earth and Mars).  Compute the inner and outer edges of each annulus and add to the chart.   Then, calculate the surface density (mass divided by surface area) of each annulus.  You should include the asteroid belt as a \"planet\", with position 3 AU and mass $3\\times10^{21}$ kg.  "
   ]
  },
  {
   "cell_type": "code",
   "execution_count": null,
   "metadata": {},
   "outputs": [],
   "source": []
  },
  {
   "cell_type": "markdown",
   "metadata": {},
   "source": [
    "<font color=\"red\">*Comments from instructor:*</font>"
   ]
  },
  {
   "cell_type": "markdown",
   "metadata": {},
   "source": [
    "### 2(f): Make a plot of the *log* of surface density vs. the *log* of distance from the sun (in units of AU).  Note: you will need to compute the log of these two numbers (np.log10() in python) and plot the results.  You will NOT plot and use set\\_scale('log') as you have in previous problems.  By experimenting, find and plot a line that roughly matches the data (not including the asteroid belt, which you'll find is an outlier).  What is the slope of the line and what is its intercept?"
   ]
  },
  {
   "cell_type": "code",
   "execution_count": null,
   "metadata": {},
   "outputs": [],
   "source": []
  },
  {
   "cell_type": "markdown",
   "metadata": {},
   "source": [
    "<font color=\"red\">*Comments from instructor:*</font>"
   ]
  },
  {
   "cell_type": "markdown",
   "metadata": {},
   "source": [
    "### 2(g): You have just re-derived an important concept in planet formation (first derived by Chushiro Hayashi in 1981, essentially by doing what you just did!) known as the minimum mass solar nebula --- the MMSN.  Comment on how/why the computation of this MMSN (its total mass, as well as its distribution) might be useful for planet formation studies.  "
   ]
  },
  {
   "cell_type": "code",
   "execution_count": null,
   "metadata": {},
   "outputs": [],
   "source": []
  },
  {
   "cell_type": "markdown",
   "metadata": {},
   "source": [
    "<font color=\"red\">*Comments from instructor:*</font>"
   ]
  },
  {
   "cell_type": "markdown",
   "metadata": {},
   "source": [
    "### 2(h): Although the MMSN is a very useful tool, it also has limitations.  Considering the process you took to calculate the MMSN, discuss what you think may be some of its limitations, and reasons to be cautious when using it.  In your answer, you should consider why this is called the *minimum* mass solar nebula."
   ]
  },
  {
   "cell_type": "code",
   "execution_count": null,
   "metadata": {},
   "outputs": [],
   "source": []
  },
  {
   "cell_type": "markdown",
   "metadata": {},
   "source": [
    "<font color=\"red\">*Comments from instructor:*</font>"
   ]
  },
  {
   "cell_type": "markdown",
   "metadata": {},
   "source": [
    "## <font color=\"red\"> Grade </font>"
   ]
  },
  {
   "cell_type": "markdown",
   "metadata": {},
   "source": [
    "<font color=\"red\"> Calculations: </font>"
   ]
  },
  {
   "cell_type": "code",
   "execution_count": 2,
   "metadata": {},
   "outputs": [],
   "source": [
    "calculations_grade=0"
   ]
  },
  {
   "cell_type": "markdown",
   "metadata": {},
   "source": [
    "<font color=\"red\"> Concepts: </font>"
   ]
  },
  {
   "cell_type": "code",
   "execution_count": 3,
   "metadata": {},
   "outputs": [],
   "source": [
    "concepts_grade=0"
   ]
  },
  {
   "cell_type": "markdown",
   "metadata": {},
   "source": [
    "<font color=\"red\"> Communication: </font>"
   ]
  },
  {
   "cell_type": "code",
   "execution_count": 4,
   "metadata": {},
   "outputs": [],
   "source": [
    "communication_grade=0"
   ]
  },
  {
   "cell_type": "markdown",
   "metadata": {},
   "source": [
    "<font color=\"red\"> Total grade: </font>"
   ]
  },
  {
   "cell_type": "code",
   "execution_count": 5,
   "metadata": {},
   "outputs": [
    {
     "name": "stdout",
     "output_type": "stream",
     "text": [
      "0\n"
     ]
    }
   ],
   "source": [
    "print(calculations_grade+concepts_grade+communication_grade)"
   ]
  },
  {
   "cell_type": "code",
   "execution_count": null,
   "metadata": {},
   "outputs": [],
   "source": []
  }
 ],
 "metadata": {
  "kernelspec": {
   "display_name": "Python 3",
   "language": "python",
   "name": "python3"
  },
  "language_info": {
   "codemirror_mode": {
    "name": "ipython",
    "version": 3
   },
   "file_extension": ".py",
   "mimetype": "text/x-python",
   "name": "python",
   "nbconvert_exporter": "python",
   "pygments_lexer": "ipython3",
   "version": "3.5.6"
  }
 },
 "nbformat": 4,
 "nbformat_minor": 1
}
